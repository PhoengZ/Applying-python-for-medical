{
 "cells": [
  {
   "cell_type": "markdown",
   "id": "cda9d259-8896-421f-8209-95c6c8e59104",
   "metadata": {},
   "source": [
    "# Medical Image Processing using python"
   ]
  },
  {
   "cell_type": "markdown",
   "id": "dcdfb348-439d-44b8-b51d-2b07425c8312",
   "metadata": {},
   "source": [
    "## Outline\n",
    "1. Medical Image\n",
    "2. Computer vision\n",
    "3. Computer Visuion for Medical Image Apllications\n",
    "4. Convolutional Neural Networks\n",
    "5. Workshop: Lung Cancer Diagnosis using Xray and understanding model by visulaization\n",
    "6. Trends in Computer vision"
   ]
  },
  {
   "cell_type": "markdown",
   "id": "8a134a81-773e-4f8f-9432-d713cec4db63",
   "metadata": {},
   "source": [
    "## Example fof Image\n",
    "1. X-ray_image\n",
    "2. Ct Scan\n",
    "3. MRI Scan\n",
    "4. Press scan\n",
    "5. Mammogram\n",
    "6. Ultrasound"
   ]
  },
  {
   "cell_type": "markdown",
   "id": "7f3cb515-86d6-40c8-b683-5b3b3dd03182",
   "metadata": {},
   "source": [
    "### Image Format for Medical Application\n",
    "1. Jpeg\n",
    "2. Png\n",
    "3. Tiff\n",
    "4. BMP"
   ]
  },
  {
   "cell_type": "markdown",
   "id": "f1706521-026c-4bee-b88a-2fa2db4e0e05",
   "metadata": {},
   "source": [
    "Each type of Image have resolution in x*y in form of funtion in f(x,y)\n",
    "and each pixel contain data RGB in 3 byte"
   ]
  },
  {
   "cell_type": "markdown",
   "id": "96acad65-c92d-490f-8f24-8aa65d905171",
   "metadata": {},
   "source": [
    "## Computer Vision is Ai \n",
    "### Ai have Three Scope\n",
    "1. AI\n",
    "2. ML\n",
    "3. DL\n",
    "\n",
    "\n",
    "and Computer vision is between ML and DL \n"
   ]
  },
  {
   "cell_type": "markdown",
   "id": "d6bca6e0-1839-4174-92ff-cee4e22c3e59",
   "metadata": {},
   "source": [
    "### Machine Learning\n",
    "have data and answer in input and have output with Rules"
   ]
  },
  {
   "cell_type": "markdown",
   "id": "825c33af-a224-42e7-9009-566a2ba0ecfd",
   "metadata": {},
   "source": [
    "## Applying Computer Vision in Medical\n",
    "1. Detection\n",
    "2. Classification\n",
    "3. Image Registration\n",
    "4. Segmentation\n",
    "5. Image generation\n",
    "6. other"
   ]
  },
  {
   "cell_type": "markdown",
   "id": "93e3e0c3-37ae-418c-8795-4c47adedc55b",
   "metadata": {},
   "source": [
    "1. For classification can use on IVF to classifile level of Melanoma skin cancer (Classification can be detection)\n",
    "2. For Detection to identify and locate object frequentcy is making box on the object to spectiy location such as Bone fracture detection on X-ray images or Using on CT scan and make color instead box\n",
    "3. for Segmentation to identify each pixel in an image into one of several classes to identify boundaries and regiones withing the image such as separating object which unused and get an object which use to identify then\n",
    "4. For Image generative AI to create an image such as used for created image to make more image to identify then, Super resolution for medical image is makinge image more resolution\n",
    "5. For image registeration to use on move coordinate of image\n",
    "6. Other such as Key point detection involves detecting specific point Problem about using line can focus on Keypoint detection"
   ]
  },
  {
   "cell_type": "markdown",
   "id": "c69fcf78-94d0-47b1-b9fc-4eeaada3f799",
   "metadata": {},
   "source": [
    "## Key technologies \n",
    "### Convolutional Neural Networks\n",
    "Separate to 3 layers\n",
    "1. Convolution Layer have filter that perform filtering template to see that have any template to get an filtermap to predict output in the present filter is maked by AI to understand any template\n",
    "2. Max-pooling its role is making decrease dimension of filtermap to get an filtermap that can easily using and faster on another process\n",
    "3. Fully Connected Component its role are combined data form previouse layer and summarized to make decisions to get an output\n",
    "\n",
    "To summarized Neural network is frequent use for understand pattern om image"
   ]
  },
  {
   "cell_type": "markdown",
   "id": "340d8311-6d60-402a-ab11-7226e7ac3a7a",
   "metadata": {},
   "source": [
    "## Training model\n",
    "Dataset have 3 Componet\n",
    "1. Traing model dastaset\n",
    "2. Validation dataset\n",
    "3. Testing model\n",
    "\n",
    "the reason that we split all Dataset to 3 Component is preventing model remember image instead learning on dataset\n",
    "\n",
    "and when we traing model by traning dataset make Evaluation by Validation and loop through optimizer, we have to don't make model see Testing model!!!\n",
    "and to prevent dataset has imbalance on 3 Component it have keyword \"Startified\" is making ensure 3 component balance "
   ]
  },
  {
   "cell_type": "markdown",
   "id": "2d035895-9f8f-448b-8f5c-92fdbe5444dc",
   "metadata": {},
   "source": [
    "### Example model \n",
    "Resnet(2015) its properties is it can collect data from before fillter"
   ]
  },
  {
   "cell_type": "markdown",
   "id": "953530f3-608d-40b4-8dd5-6e79bccf3acd",
   "metadata": {},
   "source": [
    "Before Applying model we have to focus on our problem if our problem are specific so that it shouldn't use model"
   ]
  },
  {
   "cell_type": "markdown",
   "id": "8876d295-ffcc-4250-984f-2e8ed5eebd31",
   "metadata": {},
   "source": []
  }
 ],
 "metadata": {
  "kernelspec": {
   "display_name": "Python 3 (ipykernel)",
   "language": "python",
   "name": "python3"
  },
  "language_info": {
   "codemirror_mode": {
    "name": "ipython",
    "version": 3
   },
   "file_extension": ".py",
   "mimetype": "text/x-python",
   "name": "python",
   "nbconvert_exporter": "python",
   "pygments_lexer": "ipython3",
   "version": "3.12.6"
  }
 },
 "nbformat": 4,
 "nbformat_minor": 5
}
